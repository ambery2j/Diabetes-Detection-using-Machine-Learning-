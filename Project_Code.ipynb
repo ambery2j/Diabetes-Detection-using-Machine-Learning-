{
  "nbformat": 4,
  "nbformat_minor": 0,
  "metadata": {
    "colab": {
      "name": "Project_Code.ipynb",
      "provenance": [],
      "collapsed_sections": []
    },
    "kernelspec": {
      "name": "python3",
      "display_name": "Python 3"
    },
    "language_info": {
      "name": "python"
    }
  },
  "cells": [
    {
      "cell_type": "markdown",
      "metadata": {
        "id": "sNHYHuVTA3HK"
      },
      "source": [
        "**Minor Project**"
      ]
    },
    {
      "cell_type": "markdown",
      "metadata": {
        "id": "I9v1hXwQAt92"
      },
      "source": [
        "**Import Libraries and Dataset**"
      ]
    },
    {
      "cell_type": "code",
      "metadata": {
        "id": "u1YOyIa8OZtU"
      },
      "source": [
        "import pandas as pd\n",
        "import numpy as np\n",
        "import seaborn as sns\n",
        "import matplotlib.pyplot as plt\n",
        "from sklearn.model_selection import train_test_split\n",
        "from sklearn.preprocessing import MinMaxScaler\n",
        "from sklearn.linear_model import LogisticRegression\n",
        "from sklearn.neighbors import KNeighborsClassifier\n",
        "from sklearn.tree import DecisionTreeClassifier\n",
        "from sklearn.svm import SVC\n",
        "from sklearn.ensemble import RandomForestClassifier\n",
        "\n",
        "from sklearn.metrics import accuracy_score, confusion_matrix, classification_report, plot_roc_curve\n",
        "import warnings\n",
        "warnings.filterwarnings('ignore')"
      ],
      "execution_count": 1,
      "outputs": []
    },
    {
      "cell_type": "code",
      "metadata": {
        "id": "Tt6sf0RmOwEV"
      },
      "source": [
        "#Dataset\n",
        "data=pd.read_csv('/content/drive/MyDrive/dataset/diabetes.csv')\n"
      ],
      "execution_count": 2,
      "outputs": []
    },
    {
      "cell_type": "markdown",
      "metadata": {
        "id": "iPRAGkb-COWw"
      },
      "source": [
        "**Exploratory Data Analysis**"
      ]
    },
    {
      "cell_type": "code",
      "metadata": {
        "colab": {
          "base_uri": "https://localhost:8080/",
          "height": 204
        },
        "id": "9lJgIKrBB-9C",
        "outputId": "3d7bae3b-0d0d-44ce-8a5e-db2179869df5"
      },
      "source": [
        "data.head()"
      ],
      "execution_count": 3,
      "outputs": [
        {
          "output_type": "execute_result",
          "data": {
            "text/html": [
              "<div>\n",
              "<style scoped>\n",
              "    .dataframe tbody tr th:only-of-type {\n",
              "        vertical-align: middle;\n",
              "    }\n",
              "\n",
              "    .dataframe tbody tr th {\n",
              "        vertical-align: top;\n",
              "    }\n",
              "\n",
              "    .dataframe thead th {\n",
              "        text-align: right;\n",
              "    }\n",
              "</style>\n",
              "<table border=\"1\" class=\"dataframe\">\n",
              "  <thead>\n",
              "    <tr style=\"text-align: right;\">\n",
              "      <th></th>\n",
              "      <th>Pregnancies</th>\n",
              "      <th>Glucose</th>\n",
              "      <th>BloodPressure</th>\n",
              "      <th>SkinThickness</th>\n",
              "      <th>Insulin</th>\n",
              "      <th>BMI</th>\n",
              "      <th>DiabetesPedigreeFunction</th>\n",
              "      <th>Age</th>\n",
              "      <th>Outcome</th>\n",
              "    </tr>\n",
              "  </thead>\n",
              "  <tbody>\n",
              "    <tr>\n",
              "      <th>0</th>\n",
              "      <td>6</td>\n",
              "      <td>148</td>\n",
              "      <td>72</td>\n",
              "      <td>35</td>\n",
              "      <td>0</td>\n",
              "      <td>33.6</td>\n",
              "      <td>0.627</td>\n",
              "      <td>50</td>\n",
              "      <td>1</td>\n",
              "    </tr>\n",
              "    <tr>\n",
              "      <th>1</th>\n",
              "      <td>1</td>\n",
              "      <td>85</td>\n",
              "      <td>66</td>\n",
              "      <td>29</td>\n",
              "      <td>0</td>\n",
              "      <td>26.6</td>\n",
              "      <td>0.351</td>\n",
              "      <td>31</td>\n",
              "      <td>0</td>\n",
              "    </tr>\n",
              "    <tr>\n",
              "      <th>2</th>\n",
              "      <td>8</td>\n",
              "      <td>183</td>\n",
              "      <td>64</td>\n",
              "      <td>0</td>\n",
              "      <td>0</td>\n",
              "      <td>23.3</td>\n",
              "      <td>0.672</td>\n",
              "      <td>32</td>\n",
              "      <td>1</td>\n",
              "    </tr>\n",
              "    <tr>\n",
              "      <th>3</th>\n",
              "      <td>1</td>\n",
              "      <td>89</td>\n",
              "      <td>66</td>\n",
              "      <td>23</td>\n",
              "      <td>94</td>\n",
              "      <td>28.1</td>\n",
              "      <td>0.167</td>\n",
              "      <td>21</td>\n",
              "      <td>0</td>\n",
              "    </tr>\n",
              "    <tr>\n",
              "      <th>4</th>\n",
              "      <td>0</td>\n",
              "      <td>137</td>\n",
              "      <td>40</td>\n",
              "      <td>35</td>\n",
              "      <td>168</td>\n",
              "      <td>43.1</td>\n",
              "      <td>2.288</td>\n",
              "      <td>33</td>\n",
              "      <td>1</td>\n",
              "    </tr>\n",
              "  </tbody>\n",
              "</table>\n",
              "</div>"
            ],
            "text/plain": [
              "   Pregnancies  Glucose  BloodPressure  ...  DiabetesPedigreeFunction  Age  Outcome\n",
              "0            6      148             72  ...                     0.627   50        1\n",
              "1            1       85             66  ...                     0.351   31        0\n",
              "2            8      183             64  ...                     0.672   32        1\n",
              "3            1       89             66  ...                     0.167   21        0\n",
              "4            0      137             40  ...                     2.288   33        1\n",
              "\n",
              "[5 rows x 9 columns]"
            ]
          },
          "metadata": {
            "tags": []
          },
          "execution_count": 3
        }
      ]
    },
    {
      "cell_type": "code",
      "metadata": {
        "colab": {
          "base_uri": "https://localhost:8080/",
          "height": 204
        },
        "id": "s0sW-H0TP9_c",
        "outputId": "630d780b-daed-4d2d-a9d7-e7bcda750005"
      },
      "source": [
        "data.tail()"
      ],
      "execution_count": 4,
      "outputs": [
        {
          "output_type": "execute_result",
          "data": {
            "text/html": [
              "<div>\n",
              "<style scoped>\n",
              "    .dataframe tbody tr th:only-of-type {\n",
              "        vertical-align: middle;\n",
              "    }\n",
              "\n",
              "    .dataframe tbody tr th {\n",
              "        vertical-align: top;\n",
              "    }\n",
              "\n",
              "    .dataframe thead th {\n",
              "        text-align: right;\n",
              "    }\n",
              "</style>\n",
              "<table border=\"1\" class=\"dataframe\">\n",
              "  <thead>\n",
              "    <tr style=\"text-align: right;\">\n",
              "      <th></th>\n",
              "      <th>Pregnancies</th>\n",
              "      <th>Glucose</th>\n",
              "      <th>BloodPressure</th>\n",
              "      <th>SkinThickness</th>\n",
              "      <th>Insulin</th>\n",
              "      <th>BMI</th>\n",
              "      <th>DiabetesPedigreeFunction</th>\n",
              "      <th>Age</th>\n",
              "      <th>Outcome</th>\n",
              "    </tr>\n",
              "  </thead>\n",
              "  <tbody>\n",
              "    <tr>\n",
              "      <th>763</th>\n",
              "      <td>10</td>\n",
              "      <td>101</td>\n",
              "      <td>76</td>\n",
              "      <td>48</td>\n",
              "      <td>180</td>\n",
              "      <td>32.9</td>\n",
              "      <td>0.171</td>\n",
              "      <td>63</td>\n",
              "      <td>0</td>\n",
              "    </tr>\n",
              "    <tr>\n",
              "      <th>764</th>\n",
              "      <td>2</td>\n",
              "      <td>122</td>\n",
              "      <td>70</td>\n",
              "      <td>27</td>\n",
              "      <td>0</td>\n",
              "      <td>36.8</td>\n",
              "      <td>0.340</td>\n",
              "      <td>27</td>\n",
              "      <td>0</td>\n",
              "    </tr>\n",
              "    <tr>\n",
              "      <th>765</th>\n",
              "      <td>5</td>\n",
              "      <td>121</td>\n",
              "      <td>72</td>\n",
              "      <td>23</td>\n",
              "      <td>112</td>\n",
              "      <td>26.2</td>\n",
              "      <td>0.245</td>\n",
              "      <td>30</td>\n",
              "      <td>0</td>\n",
              "    </tr>\n",
              "    <tr>\n",
              "      <th>766</th>\n",
              "      <td>1</td>\n",
              "      <td>126</td>\n",
              "      <td>60</td>\n",
              "      <td>0</td>\n",
              "      <td>0</td>\n",
              "      <td>30.1</td>\n",
              "      <td>0.349</td>\n",
              "      <td>47</td>\n",
              "      <td>1</td>\n",
              "    </tr>\n",
              "    <tr>\n",
              "      <th>767</th>\n",
              "      <td>1</td>\n",
              "      <td>93</td>\n",
              "      <td>70</td>\n",
              "      <td>31</td>\n",
              "      <td>0</td>\n",
              "      <td>30.4</td>\n",
              "      <td>0.315</td>\n",
              "      <td>23</td>\n",
              "      <td>0</td>\n",
              "    </tr>\n",
              "  </tbody>\n",
              "</table>\n",
              "</div>"
            ],
            "text/plain": [
              "     Pregnancies  Glucose  ...  Age  Outcome\n",
              "763           10      101  ...   63        0\n",
              "764            2      122  ...   27        0\n",
              "765            5      121  ...   30        0\n",
              "766            1      126  ...   47        1\n",
              "767            1       93  ...   23        0\n",
              "\n",
              "[5 rows x 9 columns]"
            ]
          },
          "metadata": {
            "tags": []
          },
          "execution_count": 4
        }
      ]
    },
    {
      "cell_type": "code",
      "metadata": {
        "colab": {
          "base_uri": "https://localhost:8080/"
        },
        "id": "_dFyLN0HvjOv",
        "outputId": "fe7be49d-8077-4fec-fc1d-ad696312a2ad"
      },
      "source": [
        "data.info()"
      ],
      "execution_count": 5,
      "outputs": [
        {
          "output_type": "stream",
          "text": [
            "<class 'pandas.core.frame.DataFrame'>\n",
            "RangeIndex: 768 entries, 0 to 767\n",
            "Data columns (total 9 columns):\n",
            " #   Column                    Non-Null Count  Dtype  \n",
            "---  ------                    --------------  -----  \n",
            " 0   Pregnancies               768 non-null    int64  \n",
            " 1   Glucose                   768 non-null    int64  \n",
            " 2   BloodPressure             768 non-null    int64  \n",
            " 3   SkinThickness             768 non-null    int64  \n",
            " 4   Insulin                   768 non-null    int64  \n",
            " 5   BMI                       768 non-null    float64\n",
            " 6   DiabetesPedigreeFunction  768 non-null    float64\n",
            " 7   Age                       768 non-null    int64  \n",
            " 8   Outcome                   768 non-null    int64  \n",
            "dtypes: float64(2), int64(7)\n",
            "memory usage: 54.1 KB\n"
          ],
          "name": "stdout"
        }
      ]
    },
    {
      "cell_type": "code",
      "metadata": {
        "colab": {
          "base_uri": "https://localhost:8080/",
          "height": 297
        },
        "id": "EZJEJwA3QPJj",
        "outputId": "78781640-02f6-4f7e-f70d-1709e65ccccb"
      },
      "source": [
        "data.describe()"
      ],
      "execution_count": 6,
      "outputs": [
        {
          "output_type": "execute_result",
          "data": {
            "text/html": [
              "<div>\n",
              "<style scoped>\n",
              "    .dataframe tbody tr th:only-of-type {\n",
              "        vertical-align: middle;\n",
              "    }\n",
              "\n",
              "    .dataframe tbody tr th {\n",
              "        vertical-align: top;\n",
              "    }\n",
              "\n",
              "    .dataframe thead th {\n",
              "        text-align: right;\n",
              "    }\n",
              "</style>\n",
              "<table border=\"1\" class=\"dataframe\">\n",
              "  <thead>\n",
              "    <tr style=\"text-align: right;\">\n",
              "      <th></th>\n",
              "      <th>Pregnancies</th>\n",
              "      <th>Glucose</th>\n",
              "      <th>BloodPressure</th>\n",
              "      <th>SkinThickness</th>\n",
              "      <th>Insulin</th>\n",
              "      <th>BMI</th>\n",
              "      <th>DiabetesPedigreeFunction</th>\n",
              "      <th>Age</th>\n",
              "      <th>Outcome</th>\n",
              "    </tr>\n",
              "  </thead>\n",
              "  <tbody>\n",
              "    <tr>\n",
              "      <th>count</th>\n",
              "      <td>768.000000</td>\n",
              "      <td>768.000000</td>\n",
              "      <td>768.000000</td>\n",
              "      <td>768.000000</td>\n",
              "      <td>768.000000</td>\n",
              "      <td>768.000000</td>\n",
              "      <td>768.000000</td>\n",
              "      <td>768.000000</td>\n",
              "      <td>768.000000</td>\n",
              "    </tr>\n",
              "    <tr>\n",
              "      <th>mean</th>\n",
              "      <td>3.845052</td>\n",
              "      <td>120.894531</td>\n",
              "      <td>69.105469</td>\n",
              "      <td>20.536458</td>\n",
              "      <td>79.799479</td>\n",
              "      <td>31.992578</td>\n",
              "      <td>0.471876</td>\n",
              "      <td>33.240885</td>\n",
              "      <td>0.348958</td>\n",
              "    </tr>\n",
              "    <tr>\n",
              "      <th>std</th>\n",
              "      <td>3.369578</td>\n",
              "      <td>31.972618</td>\n",
              "      <td>19.355807</td>\n",
              "      <td>15.952218</td>\n",
              "      <td>115.244002</td>\n",
              "      <td>7.884160</td>\n",
              "      <td>0.331329</td>\n",
              "      <td>11.760232</td>\n",
              "      <td>0.476951</td>\n",
              "    </tr>\n",
              "    <tr>\n",
              "      <th>min</th>\n",
              "      <td>0.000000</td>\n",
              "      <td>0.000000</td>\n",
              "      <td>0.000000</td>\n",
              "      <td>0.000000</td>\n",
              "      <td>0.000000</td>\n",
              "      <td>0.000000</td>\n",
              "      <td>0.078000</td>\n",
              "      <td>21.000000</td>\n",
              "      <td>0.000000</td>\n",
              "    </tr>\n",
              "    <tr>\n",
              "      <th>25%</th>\n",
              "      <td>1.000000</td>\n",
              "      <td>99.000000</td>\n",
              "      <td>62.000000</td>\n",
              "      <td>0.000000</td>\n",
              "      <td>0.000000</td>\n",
              "      <td>27.300000</td>\n",
              "      <td>0.243750</td>\n",
              "      <td>24.000000</td>\n",
              "      <td>0.000000</td>\n",
              "    </tr>\n",
              "    <tr>\n",
              "      <th>50%</th>\n",
              "      <td>3.000000</td>\n",
              "      <td>117.000000</td>\n",
              "      <td>72.000000</td>\n",
              "      <td>23.000000</td>\n",
              "      <td>30.500000</td>\n",
              "      <td>32.000000</td>\n",
              "      <td>0.372500</td>\n",
              "      <td>29.000000</td>\n",
              "      <td>0.000000</td>\n",
              "    </tr>\n",
              "    <tr>\n",
              "      <th>75%</th>\n",
              "      <td>6.000000</td>\n",
              "      <td>140.250000</td>\n",
              "      <td>80.000000</td>\n",
              "      <td>32.000000</td>\n",
              "      <td>127.250000</td>\n",
              "      <td>36.600000</td>\n",
              "      <td>0.626250</td>\n",
              "      <td>41.000000</td>\n",
              "      <td>1.000000</td>\n",
              "    </tr>\n",
              "    <tr>\n",
              "      <th>max</th>\n",
              "      <td>17.000000</td>\n",
              "      <td>199.000000</td>\n",
              "      <td>122.000000</td>\n",
              "      <td>99.000000</td>\n",
              "      <td>846.000000</td>\n",
              "      <td>67.100000</td>\n",
              "      <td>2.420000</td>\n",
              "      <td>81.000000</td>\n",
              "      <td>1.000000</td>\n",
              "    </tr>\n",
              "  </tbody>\n",
              "</table>\n",
              "</div>"
            ],
            "text/plain": [
              "       Pregnancies     Glucose  ...         Age     Outcome\n",
              "count   768.000000  768.000000  ...  768.000000  768.000000\n",
              "mean      3.845052  120.894531  ...   33.240885    0.348958\n",
              "std       3.369578   31.972618  ...   11.760232    0.476951\n",
              "min       0.000000    0.000000  ...   21.000000    0.000000\n",
              "25%       1.000000   99.000000  ...   24.000000    0.000000\n",
              "50%       3.000000  117.000000  ...   29.000000    0.000000\n",
              "75%       6.000000  140.250000  ...   41.000000    1.000000\n",
              "max      17.000000  199.000000  ...   81.000000    1.000000\n",
              "\n",
              "[8 rows x 9 columns]"
            ]
          },
          "metadata": {
            "tags": []
          },
          "execution_count": 6
        }
      ]
    },
    {
      "cell_type": "code",
      "metadata": {
        "colab": {
          "base_uri": "https://localhost:8080/"
        },
        "id": "J12_CpliyABb",
        "outputId": "0f6604d4-a889-4c4e-e8ea-40cb05484586"
      },
      "source": [
        "data.isnull().sum()"
      ],
      "execution_count": 7,
      "outputs": [
        {
          "output_type": "execute_result",
          "data": {
            "text/plain": [
              "Pregnancies                 0\n",
              "Glucose                     0\n",
              "BloodPressure               0\n",
              "SkinThickness               0\n",
              "Insulin                     0\n",
              "BMI                         0\n",
              "DiabetesPedigreeFunction    0\n",
              "Age                         0\n",
              "Outcome                     0\n",
              "dtype: int64"
            ]
          },
          "metadata": {
            "tags": []
          },
          "execution_count": 7
        }
      ]
    },
    {
      "cell_type": "code",
      "metadata": {
        "colab": {
          "base_uri": "https://localhost:8080/",
          "height": 407
        },
        "id": "Gggo9Xi0y2AX",
        "outputId": "cde8fbb4-1145-48e8-ec74-05d917c757bd"
      },
      "source": [
        "#Heat Map\n",
        "sns.heatmap(data.corr())"
      ],
      "execution_count": 8,
      "outputs": [
        {
          "output_type": "execute_result",
          "data": {
            "text/plain": [
              "<matplotlib.axes._subplots.AxesSubplot at 0x7f6817289d10>"
            ]
          },
          "metadata": {
            "tags": []
          },
          "execution_count": 8
        },
        {
          "output_type": "display_data",
          "data": {
            "image/png": "[encoded data removed]",
            "text/plain": [
              "<Figure size 432x288 with 2 Axes>"
            ]
          },
          "metadata": {
            "tags": [],
            "needs_background": "light"
          }
        }
      ]
    },
    {
      "cell_type": "code",
      "metadata": {
        "colab": {
          "base_uri": "https://localhost:8080/",
          "height": 296
        },
        "id": "dEp-5FwA2fuo",
        "outputId": "8baa9115-b6f9-49e0-99da-bf336e8b644b"
      },
      "source": [
        "#Output Description\n",
        "sns.countplot(x='Outcome',data=data)"
      ],
      "execution_count": 9,
      "outputs": [
        {
          "output_type": "execute_result",
          "data": {
            "text/plain": [
              "<matplotlib.axes._subplots.AxesSubplot at 0x7f680e48bd90>"
            ]
          },
          "metadata": {
            "tags": []
          },
          "execution_count": 9
        },
        {
          "output_type": "display_data",
          "data": {
            "image/png": "[encoded data removed]",
            "text/plain": [
              "<Figure size 432x288 with 1 Axes>"
            ]
          },
          "metadata": {
            "tags": [],
            "needs_background": "light"
          }
        }
      ]
    },
    {
      "cell_type": "code",
      "metadata": {
        "colab": {
          "base_uri": "https://localhost:8080/",
          "height": 607
        },
        "id": "AaNdJKqF3gEe",
        "outputId": "fad134d3-a757-40d8-ebc0-2b96e083e98c"
      },
      "source": [
        "columns=data.columns # LIst of column name or Feature name\n",
        "\n",
        "# Histogram of all features\n",
        "plt.figure(figsize=(10,10))\n",
        "for i in range(len(columns)-1):\n",
        "  plt.subplot(3,3,i+1)\n",
        "  plt.hist(data[columns[i]])\n",
        "  plt.title(columns[i])"
      ],
      "execution_count": 10,
      "outputs": [
        {
          "output_type": "display_data",
          "data": {
            "image/png": "[encoded data removed]",
            "text/plain": [
              "<Figure size 720x720 with 8 Axes>"
            ]
          },
          "metadata": {
            "tags": [],
            "needs_background": "light"
          }
        }
      ]
    },
    {
      "cell_type": "markdown",
      "metadata": {
        "id": "hbj2j1ycCg-r"
      },
      "source": [
        "**Train,Test & Cross validation Dataset**"
      ]
    },
    {
      "cell_type": "code",
      "metadata": {
        "id": "1f4l-duxvVAh"
      },
      "source": [
        "X=data.drop(['Outcome'],axis=1)\n",
        "Y=data['Outcome']"
      ],
      "execution_count": 11,
      "outputs": []
    },
    {
      "cell_type": "code",
      "metadata": {
        "id": "u1CVmLJLDQR_"
      },
      "source": [
        "#Train, Test Splitting\n",
        "x_train,X_test,y_train,Y_test=train_test_split(X,Y,test_size=0.2,random_state=44)"
      ],
      "execution_count": 12,
      "outputs": []
    },
    {
      "cell_type": "code",
      "metadata": {
        "id": "QeIN-BHIDVqp"
      },
      "source": [
        "#Train and Cross Validation Splitting\n",
        "X_train,X_val,Y_train,Y_val=train_test_split(x_train,y_train,test_size=0.2,random_state=44)"
      ],
      "execution_count": 13,
      "outputs": []
    },
    {
      "cell_type": "markdown",
      "metadata": {
        "id": "IlQZ3HDhCpib"
      },
      "source": [
        "**Classification Models**"
      ]
    },
    {
      "cell_type": "markdown",
      "metadata": {
        "id": "96bmCyGxub4D"
      },
      "source": [
        "**Logistic Regression**"
      ]
    },
    {
      "cell_type": "code",
      "metadata": {
        "colab": {
          "base_uri": "https://localhost:8080/",
          "height": 279
        },
        "id": "dkrANxf4EAQS",
        "outputId": "179f8831-7314-48d5-9454-099770eba834"
      },
      "source": [
        "# Hyperparater (Maximum Iteration) Tunning\n",
        "max_iteration=[100,500,1000,2000]\n",
        "accuracy=[]\n",
        "for max_itr in max_iteration:\n",
        "  LR=LogisticRegression(max_iter=max_itr,random_state=44) \n",
        "  LR.fit(X_train,Y_train)  #Logistic Regression Fitting\n",
        "  accuracy.append(accuracy_score(LR.predict(X_val),Y_val)) #Cross Validation Accuracy\n",
        "\n",
        "#Cross Validation Accuracy Vs Max Iteration Plot\n",
        "plt.plot(max_iteration,accuracy)\n",
        "plt.plot(max_iteration,accuracy,'ko')\n",
        "plt.xlabel('Maximaum Iteration')\n",
        "plt.ylabel(\"Accuracy\")\n",
        "plt.show()"
      ],
      "execution_count": 14,
      "outputs": [
        {
          "output_type": "display_data",
          "data": {
            "image/png": "[encoded data removed]",
            "text/plain": [
              "<Figure size 432x288 with 1 Axes>"
            ]
          },
          "metadata": {
            "tags": [],
            "needs_background": "light"
          }
        }
      ]
    },
    {
      "cell_type": "markdown",
      "metadata": {
        "id": "mf8P4IOAMF4B"
      },
      "source": [
        "\n",
        "There is no change in Cross Validation accuracy w.r.t maximum iterations. So, we can use 100 iterations to save computational time"
      ]
    },
    {
      "cell_type": "code",
      "metadata": {
        "colab": {
          "base_uri": "https://localhost:8080/"
        },
        "id": "UWU7C2vjEOWh",
        "outputId": "bfecab1d-edfb-49f5-e0b2-f1c2b9fd4a8d"
      },
      "source": [
        "# Logistic Regression fitting using most ideal max iteration\n",
        "Logistic_reg=LogisticRegression(max_iter=max_itr,random_state=44)\n",
        "Logistic_reg.fit(X_train,Y_train)"
      ],
      "execution_count": 15,
      "outputs": [
        {
          "output_type": "execute_result",
          "data": {
            "text/plain": [
              "LogisticRegression(C=1.0, class_weight=None, dual=False, fit_intercept=True,\n",
              "                   intercept_scaling=1, l1_ratio=None, max_iter=2000,\n",
              "                   multi_class='auto', n_jobs=None, penalty='l2',\n",
              "                   random_state=44, solver='lbfgs', tol=0.0001, verbose=0,\n",
              "                   warm_start=False)"
            ]
          },
          "metadata": {
            "tags": []
          },
          "execution_count": 15
        }
      ]
    },
    {
      "cell_type": "code",
      "metadata": {
        "colab": {
          "base_uri": "https://localhost:8080/",
          "height": 551
        },
        "id": "X2oyGzL9IpAY",
        "outputId": "a5c6ce02-7ba1-47ac-cabb-5b7acd32c1e9"
      },
      "source": [
        "Model_Accuracy=[] #list to append accuracy of different Classification models\n",
        "\n",
        "#Accuracy on Test Data using LR\n",
        "test_acc=accuracy_score(Logistic_reg.predict(X_test),Y_test)\n",
        "Model_Accuracy.append(test_acc*100) #Accuracy is appended to a list for comparison\n",
        "\n",
        "\n",
        "print('Accuracy on Test Data using Logistic Regression:',(test_acc*100),'%')\n",
        "print(\"\\nConfusion Matrix:\\n\",confusion_matrix(Logistic_reg.predict(X_test),Y_test)) #Confusion Matrix\n",
        "print(\"\\nClassification Report:\\n\",classification_report(Logistic_reg.predict(X_test),Y_test)) #Classification Reprt\n",
        "plot_roc_curve(Logistic_reg, X_test,Y_test) #ROC Curve\n",
        "plt.show()"
      ],
      "execution_count": 16,
      "outputs": [
        {
          "output_type": "stream",
          "text": [
            "Accuracy on Test Data using Logistic Regression: 80.51948051948052 %\n",
            "\n",
            "Confusion Matrix:\n",
            " [[88 28]\n",
            " [ 2 36]]\n",
            "\n",
            "Classification Report:\n",
            "               precision    recall  f1-score   support\n",
            "\n",
            "           0       0.98      0.76      0.85       116\n",
            "           1       0.56      0.95      0.71        38\n",
            "\n",
            "    accuracy                           0.81       154\n",
            "   macro avg       0.77      0.85      0.78       154\n",
            "weighted avg       0.88      0.81      0.82       154\n",
            "\n"
          ],
          "name": "stdout"
        },
        {
          "output_type": "display_data",
          "data": {
            "image/png": "[encoded data removed]",
            "text/plain": [
              "<Figure size 432x288 with 1 Axes>"
            ]
          },
          "metadata": {
            "tags": [],
            "needs_background": "light"
          }
        }
      ]
    },
    {
      "cell_type": "markdown",
      "metadata": {
        "id": "pv3eO9PmqqRk"
      },
      "source": [
        "**KNN**"
      ]
    },
    {
      "cell_type": "code",
      "metadata": {
        "id": "yD9R137uKFAI",
        "colab": {
          "base_uri": "https://localhost:8080/",
          "height": 279
        },
        "outputId": "60fc8677-130e-4245-85fe-a4af5c40afec"
      },
      "source": [
        "# Hyperparameter(K value) Tunning of KNN Model\n",
        "acc=[]\n",
        "K=np.arange(1,51,1)\n",
        "for k in K:\n",
        "  knn=KNeighborsClassifier(n_neighbors=k)\n",
        "  knn.fit(X_train,Y_train) #KNN Model Fitting\n",
        "  acc.append(accuracy_score(knn.predict(X_val),Y_val)) #Cross validation Accuracy\n",
        "\n",
        "#Cross Validation Accuracy VS K value Plot\n",
        "plt.plot(K,acc)\n",
        "plt.plot(K,acc,'ko')\n",
        "plt.xlabel('k value')\n",
        "plt.ylabel('Accuracy')\n",
        "plt.grid()\n",
        "plt.show()"
      ],
      "execution_count": 17,
      "outputs": [
        {
          "output_type": "display_data",
          "data": {
            "image/png": "[encoded data removed]",
            "text/plain": [
              "<Figure size 432x288 with 1 Axes>"
            ]
          },
          "metadata": {
            "tags": [],
            "needs_background": "light"
          }
        }
      ]
    },
    {
      "cell_type": "markdown",
      "metadata": {
        "id": "Ag8PAoW3uLxT"
      },
      "source": [
        "Highest Cross Validation Accuracy at K=12"
      ]
    },
    {
      "cell_type": "code",
      "metadata": {
        "colab": {
          "base_uri": "https://localhost:8080/",
          "height": 551
        },
        "id": "zS6c8ziWspUL",
        "outputId": "09a52eba-ab68-4ca6-8928-d71cc74ca386"
      },
      "source": [
        "#KNN Model Fitting using most effective K value\n",
        "KNN=KNeighborsClassifier(n_neighbors=12)\n",
        "KNN.fit(X_train,Y_train)\n",
        "\n",
        "#Accuracy on Test data using KNN Model\n",
        "test_acc=accuracy_score(KNN.predict(X_test),Y_test)\n",
        "Model_Accuracy.append(test_acc*100) #Accuracy is appended to a list for comparison\n",
        "\n",
        "print('Accuracy on Test Data using K nearest Neighbors:',(test_acc*100),'%')\n",
        "print(\"\\nConfusion Matrix:\\n\",confusion_matrix(KNN.predict(X_test),Y_test)) #Confusion Matrix\n",
        "print(\"\\nClassification Report:\\n\",classification_report(KNN.predict(X_test),Y_test)) #Classification Report\n",
        "plot_roc_curve(KNN, X_test,Y_test) #ROC Curve\n",
        "plt.show()"
      ],
      "execution_count": 18,
      "outputs": [
        {
          "output_type": "stream",
          "text": [
            "Accuracy on Test Data using K nearest Neighbors: 72.72727272727273 %\n",
            "\n",
            "Confusion Matrix:\n",
            " [[86 38]\n",
            " [ 4 26]]\n",
            "\n",
            "Classification Report:\n",
            "               precision    recall  f1-score   support\n",
            "\n",
            "           0       0.96      0.69      0.80       124\n",
            "           1       0.41      0.87      0.55        30\n",
            "\n",
            "    accuracy                           0.73       154\n",
            "   macro avg       0.68      0.78      0.68       154\n",
            "weighted avg       0.85      0.73      0.75       154\n",
            "\n"
          ],
          "name": "stdout"
        },
        {
          "output_type": "display_data",
          "data": {
            "image/png": "[encoded data removed]",
            "text/plain": [
              "<Figure size 432x288 with 1 Axes>"
            ]
          },
          "metadata": {
            "tags": [],
            "needs_background": "light"
          }
        }
      ]
    },
    {
      "cell_type": "markdown",
      "metadata": {
        "id": "q9Kbrao4tlaz"
      },
      "source": [
        "**Decision Tree Classifier**"
      ]
    },
    {
      "cell_type": "code",
      "metadata": {
        "colab": {
          "base_uri": "https://localhost:8080/",
          "height": 279
        },
        "id": "od0-42vGsp4r",
        "outputId": "03482870-7a8d-49f6-c942-24f7f5104fc9"
      },
      "source": [
        "#Hyperparameter(Maximum depth the tree) Tunning of Decision Tree Classifier\n",
        "max_depth=np.arange(1,15,1)\n",
        "acc=[]\n",
        "for d in max_depth:\n",
        "  DT=DecisionTreeClassifier(max_depth=d,random_state=44)\n",
        "  DT.fit(X_train,Y_train) #Model Fitting\n",
        "  acc.append(accuracy_score(DT.predict(X_val),Y_val)) #Cross Validation Accuracy\n",
        "\n",
        "#Cross Validation Accuracy Vs Depth of the tree Plot\n",
        "plt.plot(max_depth,acc)\n",
        "plt.plot(max_depth,acc,'ko')\n",
        "plt.xlabel('Max Depth')\n",
        "plt.ylabel('Accuracy')\n",
        "plt.grid()\n",
        "plt.show()"
      ],
      "execution_count": 19,
      "outputs": [
        {
          "output_type": "display_data",
          "data": {
            "image/png": "[encoded data removed]",
            "text/plain": [
              "<Figure size 432x288 with 1 Axes>"
            ]
          },
          "metadata": {
            "tags": [],
            "needs_background": "light"
          }
        }
      ]
    },
    {
      "cell_type": "markdown",
      "metadata": {
        "id": "4ZixzNP9zukz"
      },
      "source": [
        "Highest cross validation accuracy at depth=7"
      ]
    },
    {
      "cell_type": "code",
      "metadata": {
        "colab": {
          "base_uri": "https://localhost:8080/",
          "height": 551
        },
        "id": "SHZy1oEOzsPi",
        "outputId": "3bf650c6-de36-4615-c0ac-bad5a1246c79"
      },
      "source": [
        "#Model Fitting using best thee depth\n",
        "decision_tree_clf=DecisionTreeClassifier(max_depth=7,random_state=44)\n",
        "decision_tree_clf.fit(X_train,Y_train)\n",
        "\n",
        "#Accuracy on Test Data using Decision Tree\n",
        "test_acc=accuracy_score(decision_tree_clf.predict(X_test),Y_test)\n",
        "Model_Accuracy.append(test_acc*100) #Accuracy is appended to a list for comparison\n",
        "\n",
        "\n",
        "print('Accuracy on Test Data using Decision Tree:',(test_acc*100),'%')\n",
        "print(\"\\nConfusion Matrix:\\n\",confusion_matrix(decision_tree_clf.predict(X_test),Y_test)) #Confusion Matrix\n",
        "print(\"\\nClassification Report:\\n\",classification_report(decision_tree_clf.predict(X_test),Y_test)) #Classification Report\n",
        "plot_roc_curve(decision_tree_clf, X_test,Y_test) #ROC Curve\n",
        "plt.show()"
      ],
      "execution_count": 20,
      "outputs": [
        {
          "output_type": "stream",
          "text": [
            "Accuracy on Test Data using Decision Tree: 74.67532467532467 %\n",
            "\n",
            "Confusion Matrix:\n",
            " [[74 23]\n",
            " [16 41]]\n",
            "\n",
            "Classification Report:\n",
            "               precision    recall  f1-score   support\n",
            "\n",
            "           0       0.82      0.76      0.79        97\n",
            "           1       0.64      0.72      0.68        57\n",
            "\n",
            "    accuracy                           0.75       154\n",
            "   macro avg       0.73      0.74      0.73       154\n",
            "weighted avg       0.76      0.75      0.75       154\n",
            "\n"
          ],
          "name": "stdout"
        },
        {
          "output_type": "display_data",
          "data": {
            "image/png": "[encoded data removed]",
            "text/plain": [
              "<Figure size 432x288 with 1 Axes>"
            ]
          },
          "metadata": {
            "tags": [],
            "needs_background": "light"
          }
        }
      ]
    },
    {
      "cell_type": "markdown",
      "metadata": {
        "id": "XbcIOUIct_zF"
      },
      "source": [
        "**Random Forest Classifier**"
      ]
    },
    {
      "cell_type": "code",
      "metadata": {
        "colab": {
          "base_uri": "https://localhost:8080/",
          "height": 280
        },
        "id": "9GPuT_e40cDR",
        "outputId": "9f3dc1d6-991d-45c1-adbb-bda77b11e78f"
      },
      "source": [
        "# Hyperparameter(Maximum no of trees / N estimators) Tunning of Random Forest Classifier\n",
        "acc=[]\n",
        "N_est=np.arange(1,50,1) #Max no of trees\n",
        "for n in N_est:\n",
        "  RF=RandomForestClassifier(n_estimators=n,random_state=44)\n",
        "  RF.fit(X_train,Y_train) #Model Fitting\n",
        "  acc.append(accuracy_score(RF.predict(X_val),Y_val)) #Cross Validation Accuracy\n",
        "\n",
        "#Cross Validation Accuracy Vs Max no of Trees Plot\n",
        "plt.plot(N_est,acc)\n",
        "plt.plot(N_est,acc,'ko')\n",
        "plt.xlabel('No of Trees')\n",
        "plt.ylabel('Accuracy')\n",
        "plt.grid()\n",
        "plt.show()"
      ],
      "execution_count": 21,
      "outputs": [
        {
          "output_type": "display_data",
          "data": {
            "image/png": "[encoded data removed]",
            "text/plain": [
              "<Figure size 432x288 with 1 Axes>"
            ]
          },
          "metadata": {
            "tags": [],
            "needs_background": "light"
          }
        }
      ]
    },
    {
      "cell_type": "markdown",
      "metadata": {
        "id": "E53K6X685lbr"
      },
      "source": [
        "Highest cross validation accuracy at trees of the Random Forest Classifier=27"
      ]
    },
    {
      "cell_type": "code",
      "metadata": {
        "colab": {
          "base_uri": "https://localhost:8080/",
          "height": 551
        },
        "id": "f5HTGkZ13SlI",
        "outputId": "7a5b5281-c745-46d0-9319-4414a9fabd41"
      },
      "source": [
        "# Modell Fitting using most effective no of trees \n",
        "RF_clf=RandomForestClassifier(n_estimators=27,random_state=44)\n",
        "RF_clf.fit(X_train,Y_train)\n",
        "\n",
        "#Accuracy on Test data\n",
        "test_acc=accuracy_score(RF_clf.predict(X_test),Y_test)\n",
        "Model_Accuracy.append(test_acc*100) #Accuracy is appended to a list for comparison\n",
        "\n",
        "print('Accuracy on Test Data using Random Forest:',(test_acc*100),'%')\n",
        "print(\"\\nConfusion Matrix:\\n\",confusion_matrix(RF_clf.predict(X_test),Y_test)) #Confusion Matrix\n",
        "print(\"\\nClassification Report:\\n\",classification_report(RF_clf.predict(X_test),Y_test)) #Classification Report\n",
        "plot_roc_curve(RF_clf, X_test,Y_test) #ROC Curve\n",
        "plt.show()"
      ],
      "execution_count": 22,
      "outputs": [
        {
          "output_type": "stream",
          "text": [
            "Accuracy on Test Data using Random Forest: 79.22077922077922 %\n",
            "\n",
            "Confusion Matrix:\n",
            " [[85 27]\n",
            " [ 5 37]]\n",
            "\n",
            "Classification Report:\n",
            "               precision    recall  f1-score   support\n",
            "\n",
            "           0       0.94      0.76      0.84       112\n",
            "           1       0.58      0.88      0.70        42\n",
            "\n",
            "    accuracy                           0.79       154\n",
            "   macro avg       0.76      0.82      0.77       154\n",
            "weighted avg       0.84      0.79      0.80       154\n",
            "\n"
          ],
          "name": "stdout"
        },
        {
          "output_type": "display_data",
          "data": {
            "image/png": "[encoded data removed]",
            "text/plain": [
              "<Figure size 432x288 with 1 Axes>"
            ]
          },
          "metadata": {
            "tags": [],
            "needs_background": "light"
          }
        }
      ]
    },
    {
      "cell_type": "markdown",
      "metadata": {
        "id": "8ULPoxNLuNKW"
      },
      "source": [
        "**Support Vector Classifier**"
      ]
    },
    {
      "cell_type": "code",
      "metadata": {
        "colab": {
          "base_uri": "https://localhost:8080/",
          "height": 282
        },
        "id": "RIX7X_37Yi2s",
        "outputId": "a881e23f-cd75-4131-b44a-dc84f3a87207"
      },
      "source": [
        "# Hyperparameter Tunning\n",
        "C=np.arange(0.5,2.1,0.5)\n",
        "acc=[]\n",
        "\n",
        "for c in C:\n",
        "  SVM=SVC(C=c,random_state=44)\n",
        "  SVM.fit(X_train,Y_train) #Model Fitting\n",
        "  acc.append(accuracy_score(SVM.predict(X_val),Y_val)) #Cross Validation Accuracy\n",
        "\n",
        "#Cross Validation Accuracy Vs C value Plot\n",
        "plt.plot(C,acc)\n",
        "plt.plot(C,acc,'ko')\n",
        "plt.xlabel('C value')\n",
        "plt.ylabel('Accuracy')\n",
        "plt.grid()\n",
        "plt.show()"
      ],
      "execution_count": 23,
      "outputs": [
        {
          "output_type": "display_data",
          "data": {
            "image/png": "[encoded data removed]",
            "text/plain": [
              "<Figure size 432x288 with 1 Axes>"
            ]
          },
          "metadata": {
            "tags": [],
            "needs_background": "light"
          }
        }
      ]
    },
    {
      "cell_type": "markdown",
      "metadata": {
        "id": "Pqx6eXZuao_V"
      },
      "source": [
        "At C=1.0, cross validation accuracy is the highest"
      ]
    },
    {
      "cell_type": "code",
      "metadata": {
        "colab": {
          "base_uri": "https://localhost:8080/",
          "height": 551
        },
        "id": "JTdkSO3Uan1m",
        "outputId": "e412f515-a512-4ba1-ab1c-908c363f2960"
      },
      "source": [
        "#Model Fitting using most effective C value\n",
        "SVM=SVC(C=1.0,random_state=44)\n",
        "SVM.fit(X_train,Y_train)\n",
        "\n",
        "#Accuracy on Test Data\n",
        "test_acc=accuracy_score(SVM.predict(X_test),Y_test)\n",
        "Model_Accuracy.append(test_acc*100) #Accuracy is appended to a list for comparison\n",
        "\n",
        "print('Accuracy on Test Data using Random Forest:',(test_acc*100),'%')\n",
        "print(\"\\nConfusion Matrix:\\n\",confusion_matrix(SVM.predict(X_test),Y_test)) #Confusion Matrix\n",
        "print(\"\\nClassification Report:\\n\",classification_report(SVM.predict(X_test),Y_test)) #Classification Matrix\n",
        "plot_roc_curve(SVM, X_test,Y_test) #ROC Curve\n",
        "plt.show()"
      ],
      "execution_count": 24,
      "outputs": [
        {
          "output_type": "stream",
          "text": [
            "Accuracy on Test Data using Random Forest: 74.02597402597402 %\n",
            "\n",
            "Confusion Matrix:\n",
            " [[87 37]\n",
            " [ 3 27]]\n",
            "\n",
            "Classification Report:\n",
            "               precision    recall  f1-score   support\n",
            "\n",
            "           0       0.97      0.70      0.81       124\n",
            "           1       0.42      0.90      0.57        30\n",
            "\n",
            "    accuracy                           0.74       154\n",
            "   macro avg       0.69      0.80      0.69       154\n",
            "weighted avg       0.86      0.74      0.77       154\n",
            "\n"
          ],
          "name": "stdout"
        },
        {
          "output_type": "display_data",
          "data": {
            "image/png": "[encoded data removed]",
            "text/plain": [
              "<Figure size 432x288 with 1 Axes>"
            ]
          },
          "metadata": {
            "tags": [],
            "needs_background": "light"
          }
        }
      ]
    },
    {
      "cell_type": "markdown",
      "metadata": {
        "id": "bn6TBL7TUCeO"
      },
      "source": [
        "**Comparison of Accuracy on Test Data**"
      ]
    },
    {
      "cell_type": "code",
      "metadata": {
        "id": "UNNmCAtfk1mp",
        "colab": {
          "base_uri": "https://localhost:8080/"
        },
        "outputId": "1725ef2d-6421-49aa-e6a3-ef7a046024c6"
      },
      "source": [
        "print('Accuracy using Logitic Regression:',Model_Accuracy[0],'%')\n",
        "print('Accuracy using K-Nearest Neighbor:',Model_Accuracy[1],'%')\n",
        "print('Accuracy using Decision Tree Classifier:',Model_Accuracy[2],'%')\n",
        "print('Accuracy using Random Forest Classifier:',Model_Accuracy[3],'%')\n",
        "print('Accuracy using Support Vector Classifier:',Model_Accuracy[4],'%')"
      ],
      "execution_count": 25,
      "outputs": [
        {
          "output_type": "stream",
          "text": [
            "Accuracy using Logitic Regression: 80.51948051948052 %\n",
            "Accuracy using K-Nearest Neighbor: 72.72727272727273 %\n",
            "Accuracy using Decision Tree Classifier: 74.67532467532467 %\n",
            "Accuracy using Random Forest Classifier: 79.22077922077922 %\n",
            "Accuracy using Support Vector Classifier: 74.02597402597402 %\n"
          ],
          "name": "stdout"
        }
      ]
    },
    {
      "cell_type": "code",
      "metadata": {
        "colab": {
          "base_uri": "https://localhost:8080/",
          "height": 265
        },
        "id": "_tcq1qopTv6E",
        "outputId": "a1cc8393-bb58-4329-f1ed-111fc4174b40"
      },
      "source": [
        "#Bar Plot\n",
        "clf=['Logitic Regression','KNN','Decision Tree','Random Forest','Support Vector']\n",
        "Acc=[Model_Accuracy[0],Model_Accuracy[1],Model_Accuracy[2],Model_Accuracy[3],Model_Accuracy[4]]\n",
        "sns.barplot(x=Acc,y=clf)\n",
        "plt.show()"
      ],
      "execution_count": 26,
      "outputs": [
        {
          "output_type": "display_data",
          "data": {
            "image/png": "[encoded data removed]",
            "text/plain": [
              "<Figure size 432x288 with 1 Axes>"
            ]
          },
          "metadata": {
            "tags": [],
            "needs_background": "light"
          }
        }
      ]
    },
    {
      "cell_type": "markdown",
      "metadata": {
        "id": "JPEu1iMgiiPX"
      },
      "source": [
        "**Among these 5 classification moldels, Logistic Regression performed the best with accuracy 80.52% on test data set and Random Forest is just behind Logistic Regression with accuracy 79.22%**"
      ]
    },
    {
      "cell_type": "code",
      "metadata": {
        "id": "vQG9Uj9P7Mh1"
      },
      "source": [
        ""
      ],
      "execution_count": 26,
      "outputs": []
    }
  ]
}